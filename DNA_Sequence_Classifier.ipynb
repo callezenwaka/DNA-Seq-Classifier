{
  "nbformat": 4,
  "nbformat_minor": 0,
  "metadata": {
    "colab": {
      "name": "DNA-Sequence-Classifier.ipynb",
      "provenance": [],
      "include_colab_link": true
    },
    "kernelspec": {
      "name": "python3",
      "display_name": "Python 3"
    },
    "language_info": {
      "name": "python"
    }
  },
  "cells": [
    {
      "cell_type": "markdown",
      "metadata": {
        "id": "view-in-github",
        "colab_type": "text"
      },
      "source": [
        "<a href=\"https://colab.research.google.com/github/callezenwaka/DNA-Sequence-Classifier/blob/main/DNA_Sequence_Classifier.ipynb\" target=\"_parent\"><img src=\"https://colab.research.google.com/assets/colab-badge.svg\" alt=\"Open In Colab\"/></a>"
      ]
    },
    {
      "cell_type": "markdown",
      "metadata": {
        "id": "AZOXqblyFdcx"
      },
      "source": [
        "# DNA Sequencing with Machine Learning "
      ]
    },
    {
      "cell_type": "markdown",
      "metadata": {
        "id": "5mpqutfwx6ou"
      },
      "source": [
        "In this notebook, I will apply a classification model that can predict a gene's function based on the DNA sequence of the coding sequence alone."
      ]
    },
    {
      "cell_type": "markdown",
      "metadata": {
        "id": "MD58eoJwyAx_"
      },
      "source": [
        "# Setting up environment and importing packages"
      ]
    },
    {
      "cell_type": "code",
      "metadata": {
        "id": "F4NjJJ02Fb4i"
      },
      "source": [
        "import requests as rq\n",
        "import numpy as np\n",
        "import pandas as pd\n",
        "import matplotlib.pyplot as plt\n",
        "%matplotlib inline"
      ],
      "execution_count": 2,
      "outputs": []
    },
    {
      "cell_type": "code",
      "metadata": {
        "id": "edd4uZksyeaP"
      },
      "source": [
        "# download datasets\n",
        "chimp_data_url = 'https://raw.githubusercontent.com/callezenwaka/DNA-Sequence-Classifier/main/chimp_data.txt'\n",
        "r = rq.get(chimp_data_url)\n",
        "with open('chimp_data.txt', 'w') as f:\n",
        "    f.write(r.text)\n",
        "\n",
        "dog_data_url = 'https://raw.githubusercontent.com/callezenwaka/DNA-Sequence-Classifier/main/dog_data.txt'\n",
        "r = rq.get(chimp_data_url)\n",
        "with open('dog_data.txt', 'w') as f:\n",
        "    f.write(r.text)\n",
        "\n",
        "human_data_url = 'https://raw.githubusercontent.com/callezenwaka/DNA-Sequence-Classifier/main/human_data.txt'\n",
        "r = rq.get(human_data_url)\n",
        "with open('human_data.txt', 'w') as f:\n",
        "    f.write(r.text)"
      ],
      "execution_count": 3,
      "outputs": []
    },
    {
      "cell_type": "code",
      "metadata": {
        "id": "da4sHl5eyU6X",
        "outputId": "4d75dc4a-9635-43ed-aeb2-1b51cda54b8e",
        "colab": {
          "base_uri": "https://localhost:8080/",
          "height": 206
        }
      },
      "source": [
        "# read human dataset and output sample\n",
        "human_data = pd.read_table('human_data.txt')\n",
        "human_data.head()"
      ],
      "execution_count": 4,
      "outputs": [
        {
          "output_type": "execute_result",
          "data": {
            "text/html": [
              "<div>\n",
              "<style scoped>\n",
              "    .dataframe tbody tr th:only-of-type {\n",
              "        vertical-align: middle;\n",
              "    }\n",
              "\n",
              "    .dataframe tbody tr th {\n",
              "        vertical-align: top;\n",
              "    }\n",
              "\n",
              "    .dataframe thead th {\n",
              "        text-align: right;\n",
              "    }\n",
              "</style>\n",
              "<table border=\"1\" class=\"dataframe\">\n",
              "  <thead>\n",
              "    <tr style=\"text-align: right;\">\n",
              "      <th></th>\n",
              "      <th>sequence</th>\n",
              "      <th>class</th>\n",
              "    </tr>\n",
              "  </thead>\n",
              "  <tbody>\n",
              "    <tr>\n",
              "      <th>0</th>\n",
              "      <td>ATGCCCCAACTAAATACTACCGTATGGCCCACCATAATTACCCCCA...</td>\n",
              "      <td>4</td>\n",
              "    </tr>\n",
              "    <tr>\n",
              "      <th>1</th>\n",
              "      <td>ATGAACGAAAATCTGTTCGCTTCATTCATTGCCCCCACAATCCTAG...</td>\n",
              "      <td>4</td>\n",
              "    </tr>\n",
              "    <tr>\n",
              "      <th>2</th>\n",
              "      <td>ATGTGTGGCATTTGGGCGCTGTTTGGCAGTGATGATTGCCTTTCTG...</td>\n",
              "      <td>3</td>\n",
              "    </tr>\n",
              "    <tr>\n",
              "      <th>3</th>\n",
              "      <td>ATGTGTGGCATTTGGGCGCTGTTTGGCAGTGATGATTGCCTTTCTG...</td>\n",
              "      <td>3</td>\n",
              "    </tr>\n",
              "    <tr>\n",
              "      <th>4</th>\n",
              "      <td>ATGCAACAGCATTTTGAATTTGAATACCAGACCAAAGTGGATGGTG...</td>\n",
              "      <td>3</td>\n",
              "    </tr>\n",
              "  </tbody>\n",
              "</table>\n",
              "</div>"
            ],
            "text/plain": [
              "                                            sequence  class\n",
              "0  ATGCCCCAACTAAATACTACCGTATGGCCCACCATAATTACCCCCA...      4\n",
              "1  ATGAACGAAAATCTGTTCGCTTCATTCATTGCCCCCACAATCCTAG...      4\n",
              "2  ATGTGTGGCATTTGGGCGCTGTTTGGCAGTGATGATTGCCTTTCTG...      3\n",
              "3  ATGTGTGGCATTTGGGCGCTGTTTGGCAGTGATGATTGCCTTTCTG...      3\n",
              "4  ATGCAACAGCATTTTGAATTTGAATACCAGACCAAAGTGGATGGTG...      3"
            ]
          },
          "metadata": {},
          "execution_count": 4
        }
      ]
    },
    {
      "cell_type": "markdown",
      "metadata": {
        "id": "8T6R2wRO1DYf"
      },
      "source": [
        "We have some data for human DNA sequence coding regions and a class label. We also have data for Chimpanzee and a more divergent species, the dog."
      ]
    },
    {
      "cell_type": "code",
      "metadata": {
        "id": "FGEa-gLB1Iol",
        "outputId": "a977f896-557b-4a34-e36e-df375a179a0a",
        "colab": {
          "base_uri": "https://localhost:8080/",
          "height": 206
        }
      },
      "source": [
        "# read chimp and dog datasets\n",
        "chimp_data = pd.read_table('chimp_data.txt')\n",
        "dog_data = pd.read_table('dog_data.txt')\n",
        "chimp_data.head()\n",
        "dog_data.head()"
      ],
      "execution_count": 5,
      "outputs": [
        {
          "output_type": "execute_result",
          "data": {
            "text/html": [
              "<div>\n",
              "<style scoped>\n",
              "    .dataframe tbody tr th:only-of-type {\n",
              "        vertical-align: middle;\n",
              "    }\n",
              "\n",
              "    .dataframe tbody tr th {\n",
              "        vertical-align: top;\n",
              "    }\n",
              "\n",
              "    .dataframe thead th {\n",
              "        text-align: right;\n",
              "    }\n",
              "</style>\n",
              "<table border=\"1\" class=\"dataframe\">\n",
              "  <thead>\n",
              "    <tr style=\"text-align: right;\">\n",
              "      <th></th>\n",
              "      <th>sequence</th>\n",
              "      <th>class</th>\n",
              "    </tr>\n",
              "  </thead>\n",
              "  <tbody>\n",
              "    <tr>\n",
              "      <th>0</th>\n",
              "      <td>ATGCCCCAACTAAATACCGCCGTATGACCCACCATAATTACCCCCA...</td>\n",
              "      <td>4</td>\n",
              "    </tr>\n",
              "    <tr>\n",
              "      <th>1</th>\n",
              "      <td>ATGAACGAAAATCTATTCGCTTCATTCGCTGCCCCCACAATCCTAG...</td>\n",
              "      <td>4</td>\n",
              "    </tr>\n",
              "    <tr>\n",
              "      <th>2</th>\n",
              "      <td>ATGGCCTCGCGCTGGTGGCGGTGGCGACGCGGCTGCTCCTGGAGGC...</td>\n",
              "      <td>4</td>\n",
              "    </tr>\n",
              "    <tr>\n",
              "      <th>3</th>\n",
              "      <td>ATGGCCTCGCGCTGGTGGCGGTGGCGACGCGGCTGCTCCTGGAGGC...</td>\n",
              "      <td>4</td>\n",
              "    </tr>\n",
              "    <tr>\n",
              "      <th>4</th>\n",
              "      <td>ATGGGCAGCGCCAGCCCGGGTCTGAGCAGCGTGTCCCCCAGCCACC...</td>\n",
              "      <td>6</td>\n",
              "    </tr>\n",
              "  </tbody>\n",
              "</table>\n",
              "</div>"
            ],
            "text/plain": [
              "                                            sequence  class\n",
              "0  ATGCCCCAACTAAATACCGCCGTATGACCCACCATAATTACCCCCA...      4\n",
              "1  ATGAACGAAAATCTATTCGCTTCATTCGCTGCCCCCACAATCCTAG...      4\n",
              "2  ATGGCCTCGCGCTGGTGGCGGTGGCGACGCGGCTGCTCCTGGAGGC...      4\n",
              "3  ATGGCCTCGCGCTGGTGGCGGTGGCGACGCGGCTGCTCCTGGAGGC...      4\n",
              "4  ATGGGCAGCGCCAGCCCGGGTCTGAGCAGCGTGTCCCCCAGCCACC...      6"
            ]
          },
          "metadata": {},
          "execution_count": 5
        }
      ]
    },
    {
      "cell_type": "markdown",
      "metadata": {
        "id": "3JiqAMwE1Utf"
      },
      "source": [
        "Here are the definitions for each of the 7 classes and how many there are in the human training data. They are gene sequence function groups."
      ]
    },
    {
      "cell_type": "markdown",
      "metadata": {
        "id": "qGHjhOvV-S6d"
      },
      "source": [
        "![Gene_sequence_function_groups](https://raw.githubusercontent.com/callezenwaka/DNA-Sequence-Classifier/main/Gene_sequence_function_groups.jpg)"
      ]
    },
    {
      "cell_type": "markdown",
      "metadata": {
        "id": "e9hnlca3-o13"
      },
      "source": [
        "**Treating DNA sequence as a \"language\", otherwise known as k-mer counting**"
      ]
    },
    {
      "cell_type": "markdown",
      "metadata": {
        "id": "4maU91EM-raR"
      },
      "source": [
        "A challenge that remains is that none of these above methods results in vectors of uniform length, and that is a requirement for feeding data to a classification or regression algorithm. So with the above methods you have to resort to things like truncating sequences or padding with \"n\" or \"0\" to get vectors of uniform length.\n",
        "\n",
        "DNA and protein sequences can be viewed metaphorically as the language of life. The language encodes instructions as well as function for the molecules that are found in all life forms. The sequence language analogy continues with the genome as the book, subsequences (genes and gene families) are sentences and chapters, k-mers and peptides (motifs) are words, and nucleotide bases and amino acids are the alphabet. Since the analogy seems so apt, it stands to reason that the amazing work done in the natural language processing field should also apply to the natural language of DNA and protein sequences.\n",
        "\n",
        "The method I use here is simple and easy. I first take the long biological sequence and break it down into k-mer length overlapping “words”. For example, if I use \"words\" of length 6 (hexamers), “ATGCATGCA” becomes: ‘ATGCAT’, ‘TGCATG’, ‘GCATGC’, ‘CATGCA’. Hence our example sequence is broken down into 4 hexamer words.\n",
        "\n",
        "Here I am using hexamer “words” but that is arbitrary and word length can be tuned to suit the particular situation. The word length and amount of overlap need to be determined empirically for any given application.\n",
        "\n",
        "In genomics, we refer to these types of manipulations as \"k-mer counting\", or counting the occurances of each possible k-mer sequence. There are specialized tools for this, but the Python natural language processing tools make it super easy.\n",
        "\n",
        "Here is a function that can be used to convert any sequence (string) to overlapping k-mer words:"
      ]
    },
    {
      "cell_type": "code",
      "metadata": {
        "id": "2v5Z-mcO_3UR"
      },
      "source": [
        "# convert sequence strings into k-mer words, default size = 6 (hexamer words)\n",
        "def getKmers(sequence, size=6):\n",
        "    return [sequence[x:x+size].lower() for x in range(len(sequence) - size + 1)]"
      ],
      "execution_count": null,
      "outputs": []
    },
    {
      "cell_type": "code",
      "metadata": {
        "id": "a46mESecALXG"
      },
      "source": [
        "# convert training data sequences into short overlapping k-mers of legth 6\n",
        "human_data['words'] = human_data.apply(lambda x: getKmers(x['sequence']), axis=1)\n",
        "human_data = human_data.drop('sequence', axis=1)\n",
        "chimp_data['words'] = chimp_data.apply(lambda x: getKmers(x['sequence']), axis=1)\n",
        "chimp_data = chimp_data.drop('sequence', axis=1)\n",
        "dog_data['words'] = dog_data.apply(lambda x: getKmers(x['sequence']), axis=1)\n",
        "dog_data = dog_data.drop('sequence', axis=1)"
      ],
      "execution_count": null,
      "outputs": []
    },
    {
      "cell_type": "code",
      "metadata": {
        "id": "yAKXfD6b2Z9e"
      },
      "source": [
        "# preview possible k-mer words\n",
        "human_data.head()"
      ],
      "execution_count": null,
      "outputs": []
    },
    {
      "cell_type": "code",
      "metadata": {
        "id": "nH2cuMnm2xpt"
      },
      "source": [
        "# convert the human lists of k-mers for each gene into string sentences of words\n",
        "human_texts = list(human_data['words'])\n",
        "for item in range(len(human_texts)):\n",
        "  human_texts[item] = ' '.join(human_texts[item])\n",
        "\n",
        "# define cluster label\n",
        "y_human = human_data.iloc[:, 0].values\n",
        "print(f\"y_human:\\n{y_human}\\n\")\n",
        "print(f\"human_texts[2]:\\n{human_texts[2]}\")"
      ],
      "execution_count": null,
      "outputs": []
    },
    {
      "cell_type": "code",
      "metadata": {
        "id": "H0yhvIgf2y-g"
      },
      "source": [
        "# convert the chimp lists of k-mers for each gene into string sentences of words\n",
        "chimp_texts = list(chimp_texts['words'])\n",
        "for item in range(len(chimp_texts)):\n",
        "  chimp_texts[item] = ' '.join(chimp_texts[item])\n",
        "\n",
        "# define cluster label\n",
        "y_chimp = chimp_texts.iloc[:, 0].values"
      ],
      "execution_count": null,
      "outputs": []
    },
    {
      "cell_type": "code",
      "metadata": {
        "id": "pJ430W2_4q2V"
      },
      "source": [
        "# convert the dog lists of k-mers for each gene into string sentences of words\n",
        "dog_texts = list(dog_texts['words'])\n",
        "for item in range(len(dog_texts)):\n",
        "  dog_texts[item] = ' '.join(dog_texts[item])\n",
        "\n",
        "# define cluster label\n",
        "y_dog = dog_texts.iloc[:, 0].values"
      ],
      "execution_count": null,
      "outputs": []
    },
    {
      "cell_type": "markdown",
      "metadata": {
        "id": "fFun2ewq_rlI"
      },
      "source": [
        "Apply bag of words using NLG CountVectorizer"
      ]
    },
    {
      "cell_type": "code",
      "metadata": {
        "id": "6pSDp-bQ5Qyw"
      },
      "source": [
        "# performing k-mer counting\n",
        "from sklearn.feature_extraction.text import CountVectorizer\n",
        "cv = CountVectorizer(ngram_range=(4,4))\n",
        "X_human = cv.fit_transform(human_texts)\n",
        "X_chimp = cv.fit_transform(chimp_texts)\n",
        "X_dog = cv.fit_transform(dog_texts)\n",
        "print(f\"X_human shape: {X_human.shape}\\nX_chimp shape: {X_chimp.shape}\\nX_dog shape: {X_dog.shape}\\n\")"
      ],
      "execution_count": null,
      "outputs": []
    },
    {
      "cell_type": "code",
      "metadata": {
        "id": "A3t82mmW6iwz"
      },
      "source": [
        "# preview class balance\n",
        "human_data['class'].value_counts().sort_index().plot.bar()"
      ],
      "execution_count": null,
      "outputs": []
    },
    {
      "cell_type": "code",
      "metadata": {
        "id": "7TVJbbdD6xSs"
      },
      "source": [
        "# split the human dataset into training and testing set\n",
        "from sklearn.model_selection import train_test_split\n",
        "X_train, X_test, y_train, y_test = train_test_split(X_human, y_human, test_size = 0.20, random_state=42)\n",
        "print(f\"X_train: {X_train.shape}\\nX_test: {X_test.shape}\")"
      ],
      "execution_count": null,
      "outputs": []
    },
    {
      "cell_type": "code",
      "metadata": {
        "id": "QmJcaViB7zlX"
      },
      "source": [
        "# define multinomial Naive Bayes classifier\n",
        "from sklearn.naive_bayes import MultinomialNB\n",
        "classifier = MultinomialNB(alpha=0.1)\n",
        "classifier.fit(X_train, y_train)"
      ],
      "execution_count": null,
      "outputs": []
    },
    {
      "cell_type": "code",
      "metadata": {
        "id": "7oU6e73x8O5s"
      },
      "source": [
        "# classify and run prediction\n",
        "y_pred = classifier.predict(X_test)"
      ],
      "execution_count": null,
      "outputs": []
    },
    {
      "cell_type": "code",
      "metadata": {
        "id": "0VC_PuQu8mUO"
      },
      "source": [
        "# model performance\n",
        "from sklearn.metrics import accuracy_score, f1_score, precision_score, recall_score\n",
        "print(f\"COnfusion matrix:\\n{pd.crosstab(pd.series(y_test, name='Actual'), pd.series(y_pred, name='Predicted'))}\")\n",
        "def get_metrics(y_test, y_pred):\n",
        "  accuracy = accuracy_score(y_test, y_pred)\n",
        "  precision = precision_score(y_test, y_pred, average='weighted')\n",
        "  recall = recall_score(y_test, y_pred, average='weighted')\n",
        "  f1 = f1_score(y_test, y_pred, average='weighted')\n",
        "  return accuracy, precision, recall, f1\n",
        "\n",
        "accuracy, precision, recall, f1 = get_metrics(y_test, y_pred)\n",
        "print(f\"accuracy: {accuracy:.3f}\\nprecision: {precision:.3f}\\nrecall: {recall:.3f}\\nf1: {f1:.3f}\")"
      ],
      "execution_count": null,
      "outputs": []
    }
  ]
}